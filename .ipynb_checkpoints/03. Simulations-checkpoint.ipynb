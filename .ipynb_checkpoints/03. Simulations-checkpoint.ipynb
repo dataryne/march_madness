{
 "cells": [
  {
   "cell_type": "code",
   "execution_count": 283,
   "metadata": {
    "collapsed": false
   },
   "outputs": [],
   "source": [
    "import os\n",
    "import time\n",
    "import pandas as pd  \n",
    "import numpy as np\n",
    "import re\n",
    "import sqlite3"
   ]
  },
  {
   "cell_type": "markdown",
   "metadata": {},
   "source": [
    "#### Inputs  \n",
    "  \n",
    "prediction_probabilities.csv: this is a file with all possible 2017 matchups and a predicted probability that the stronger seed wins.  \n",
    "slots_2017.csv: from Kaggle. Has the slots/matchups for the tournament."
   ]
  },
  {
   "cell_type": "markdown",
   "metadata": {},
   "source": [
    "#### Clean up the win probabilities data set"
   ]
  },
  {
   "cell_type": "code",
   "execution_count": 356,
   "metadata": {
    "collapsed": false
   },
   "outputs": [],
   "source": [
    "win_prob_var_touse = \"rforest_prob\" #set this to whatever variable has the win probabilities for the matchup"
   ]
  },
  {
   "cell_type": "code",
   "execution_count": 357,
   "metadata": {
    "collapsed": false
   },
   "outputs": [],
   "source": [
    "win_probs = pd.read_csv(\"Simulations/prediction_probabilities.csv\")\n",
    "slots_2017 = pd.read_csv(\"Simulations/slots_2017.csv\").drop('index',axis = 1)\n",
    "\n",
    "win_probs.loc[:,\"Win_Prob\"] = win_probs[win_prob_var_touse]\n",
    "win_probs.loc[:,'SS_Win'] = np.where(win_probs['Win_Prob'] >= .5,1,0)\n",
    "win_probs.loc[:,'WinTeam'] = np.where(win_probs.SS_Win == 1,win_probs.SS_team,win_probs.WS_team)\n",
    "win_probs.loc[:,'Winning_Seed'] = np.where(win_probs.SS_Win == 1,win_probs.SS_Seed.str[0:3],win_probs.WS_Seed.str[0:3])\n",
    "win_probs = win_probs.drop(['rforest_vals','rforest_prob'],axis=1)\n",
    "\n",
    "#mt. st marys beat new orleans\n",
    "win_probs.ix[((win_probs.SS_team == 1291)&(win_probs.WS_team == 1309)),'SS_Win'] = 1\n",
    "#k state beat wake forest\n",
    "win_probs.ix[((win_probs.SS_team == 1243)&(win_probs.WS_team == 1448)),'SS_Win'] = 1\n",
    "#nc central (1300) and uc davis\n",
    "win_probs.ix[((win_probs.SS_team == 1300)&(win_probs.WS_team == 1413)),'SS_Win'] = 0\n",
    "#providence (1344) and usc\n",
    "win_probs.ix[((win_probs.SS_team == 1344)&(win_probs.WS_team == 1425)),'SS_Win'] = 0"
   ]
  },
  {
   "cell_type": "markdown",
   "metadata": {},
   "source": [
    "##### Reassign Round to 0 for play in games and remove the a/b from Seed for rounds 1 and later."
   ]
  },
  {
   "cell_type": "code",
   "execution_count": 358,
   "metadata": {
    "collapsed": false
   },
   "outputs": [],
   "source": [
    "slots_2017.ix[slots_2017.Strongseed.str.contains(\"a|b\",regex=True), 'Round'] = 0\n",
    "slots_2017_noplayins = slots_2017[slots_2017.Round != 0]\n",
    "slots_2017_noplayins.loc[:,\"Strongseed\"] = np.where(slots_2017_noplayins.Round == 1, slots_2017_noplayins.Strongseed.str[0:3],slots_2017_noplayins.Strongseed)\n",
    "slots_2017_noplayins.loc[:,\"Weakseed\"] = np.where(slots_2017_noplayins.Round == 1, slots_2017_noplayins.Weakseed.str[0:3],slots_2017_noplayins.Weakseed)"
   ]
  },
  {
   "cell_type": "code",
   "execution_count": 359,
   "metadata": {
    "collapsed": false
   },
   "outputs": [
    {
     "data": {
      "text/html": [
       "<div>\n",
       "<table border=\"1\" class=\"dataframe\">\n",
       "  <thead>\n",
       "    <tr style=\"text-align: right;\">\n",
       "      <th></th>\n",
       "      <th>Season</th>\n",
       "      <th>Slot</th>\n",
       "      <th>Strongseed</th>\n",
       "      <th>Weakseed</th>\n",
       "      <th>Round</th>\n",
       "    </tr>\n",
       "  </thead>\n",
       "  <tbody>\n",
       "  </tbody>\n",
       "</table>\n",
       "</div>"
      ],
      "text/plain": [
       "Empty DataFrame\n",
       "Columns: [Season, Slot, Strongseed, Weakseed, Round]\n",
       "Index: []"
      ]
     },
     "execution_count": 359,
     "metadata": {},
     "output_type": "execute_result"
    }
   ],
   "source": [
    "slots_2017[slots_2017.Strongseed.str.contains(\"a|b\",regex=True)]\n",
    "slots_2017_noplayins[slots_2017_noplayins.Strongseed.str.contains(\"a|b\",regex=True)]"
   ]
  },
  {
   "cell_type": "markdown",
   "metadata": {},
   "source": [
    "#### Remove the letter from the seed of the 4 play in game winners (in the win probs dataset)"
   ]
  },
  {
   "cell_type": "code",
   "execution_count": 360,
   "metadata": {
    "collapsed": false
   },
   "outputs": [
    {
     "data": {
      "text/plain": [
       "[1344, 1291, 1300, 1243]"
      ]
     },
     "execution_count": 360,
     "metadata": {},
     "output_type": "execute_result"
    }
   ],
   "source": [
    "play_in_winners = pd.merge(slots_2017[slots_2017.Round == 0],win_probs,\n",
    "                           left_on=['Strongseed','Weakseed'],\n",
    "                           right_on=['SS_Seed','WS_Seed'],how='inner').WinTeam.tolist()\n",
    "play_in_winners"
   ]
  },
  {
   "cell_type": "code",
   "execution_count": 361,
   "metadata": {
    "collapsed": false
   },
   "outputs": [],
   "source": [
    "for team in play_in_winners:\n",
    "    win_probs.ix[win_probs.WS_team == team, 'WS_Seed'] = win_probs.WS_Seed.str[0:3]\n",
    "    win_probs.ix[win_probs.SS_team == team, 'SS_Seed'] = win_probs.SS_Seed.str[0:3]"
   ]
  },
  {
   "cell_type": "code",
   "execution_count": 362,
   "metadata": {
    "collapsed": false
   },
   "outputs": [],
   "source": [
    "#delete the games that had the losing play-in game teams\n",
    "playin_teams_to_exclude = [1309,1448,1300,1344]\n",
    "win_probs = win_probs[~((win_probs.SS_team.isin(playin_teams_to_exclude))|(win_probs.WS_team.isin(playin_teams_to_exclude)))]\n",
    "#strip the letters off\n",
    "win_probs.loc[:,\"SS_Seed\"] = win_probs.SS_Seed.str[0:3]\n",
    "win_probs.loc[:,\"WS_Seed\"] = win_probs.WS_Seed.str[0:3]"
   ]
  },
  {
   "cell_type": "markdown",
   "metadata": {},
   "source": [
    "# Simulation Set Up"
   ]
  },
  {
   "cell_type": "markdown",
   "metadata": {},
   "source": [
    "#### This function will take the previous round and output a dataset that is the current round matchups and winner"
   ]
  },
  {
   "cell_type": "code",
   "execution_count": 371,
   "metadata": {
    "collapsed": true
   },
   "outputs": [],
   "source": [
    "def get_round_results(previous_round,roundnum):\n",
    "\n",
    "    current_round = slots_for_simulation[(slots_for_simulation.Round ==roundnum)].copy()\n",
    "    current_round_long = pd.merge(pd.melt(current_round,id_vars=['Season','Slot'],value_vars=['Strongseed','Weakseed'],value_name='RSlot'),\n",
    "            previous_round[['Season','Slot','Winning_Seed']],left_on=['Season','RSlot'],right_on=['Season','Slot'],how='left') \n",
    "    current_round_long = current_round_long[['Season','Slot_x','Winning_Seed']].copy()\n",
    "    current_round_long = current_round_long.rename(columns={\"Slot_x\":\"Slot\"})\n",
    "    current_round_long.loc[:,\"SeedNum\"] = current_round_long.Winning_Seed.str[1:3].astype(int)\n",
    "    current_round_long.loc[:,\"Region\"] = current_round_long.Winning_Seed.str[0:1]\n",
    "    current_round_long = current_round_long.sort_values(['Season','Slot','SeedNum','Region']).drop(['SeedNum','Region'],axis=1)\n",
    "    current_round_long.loc[:,'Is_WS'] = current_round_long.groupby(['Season','Slot']).cumcount()\n",
    "    current_round_long_0 = current_round_long[current_round_long.Is_WS == 0].copy().rename(columns={\"Winning_Seed\":\"SS_Seed\"}).drop(['Is_WS'],axis=1)\n",
    "    current_round_long_1 = current_round_long[current_round_long.Is_WS == 1].copy().rename(columns={\"Winning_Seed\":\"WS_Seed\"}).drop(['Is_WS'],axis=1)\n",
    "    current_round = pd.merge(current_round_long_0,current_round_long_1,on=['Season','Slot'])\n",
    "    current_round.loc[:,\"Round\"] = roundnum\n",
    "    return(pd.merge(current_round,win_probs_for_simulation,on=['SS_Seed','WS_Seed'],how='left'))"
   ]
  },
  {
   "cell_type": "markdown",
   "metadata": {},
   "source": [
    "#### Helper function for sampling win/loss in the simulations"
   ]
  },
  {
   "cell_type": "code",
   "execution_count": null,
   "metadata": {
    "collapsed": true
   },
   "outputs": [],
   "source": [
    "def get_randomized_prob(theta):\n",
    "    return(np.random.binomial(1, theta,size=None))"
   ]
  },
  {
   "cell_type": "markdown",
   "metadata": {},
   "source": [
    "#### Run through the bracket based on the win probability just to make sure it works before running the simulations"
   ]
  },
  {
   "cell_type": "code",
   "execution_count": null,
   "metadata": {
    "collapsed": true
   },
   "outputs": [],
   "source": [
    "slots_r1 = pd.merge(slots_for_simulation[slots_for_simulation.Round == 1],win_probs_for_simulation,\n",
    "         left_on=['Strongseed','Weakseed'],right_on=['SS_Seed','WS_Seed'],how='left')\n",
    "slots_r2 = get_round_results(slots_r1,2)\n",
    "slots_r3 = get_round_results(slots_r2,3)\n",
    "slots_r4 = get_round_results(slots_r3,4)\n",
    "slots_r5 = get_round_results(slots_r4,5)\n",
    "slots_r6 = get_round_results(slots_r5,6)\n",
    "\n",
    "slots_complete = pd.concat([slots_r1, slots_r2, slots_r3, slots_r4, slots_r5, slots_r6], \n",
    "                           ignore_index=False).reset_index().drop(['index'],axis=1).drop(['Strongseed','Weakseed'],axis=1)"
   ]
  },
  {
   "cell_type": "markdown",
   "metadata": {},
   "source": [
    "# Start of simulation"
   ]
  },
  {
   "cell_type": "code",
   "execution_count": 418,
   "metadata": {
    "collapsed": false
   },
   "outputs": [],
   "source": [
    "N = 1000\n",
    "\n",
    "# set up dataframes to hold results\n",
    "champions = pd.DataFrame(columns=['n','Winner'])\n",
    "final4winners = pd.DataFrame(columns=['n','Winner'])\n",
    "elite8winners = pd.DataFrame(columns=['n','Winner'])\n",
    "sweet16winners = pd.DataFrame(columns=['n','Winner'])\n",
    "round32winners = pd.DataFrame(columns=['n','Winner'])\n",
    "round64winners = pd.DataFrame(columns=['n','Winner'])\n",
    "\n",
    "for n in range(N):\n",
    "\n",
    "    win_probs_for_simulation = win_probs.copy()\n",
    "    slots_for_simulation = slots_2017_noplayins.copy()\n",
    "    \n",
    "    #draw random win/losses based on the win probablitity and set up the \"winner\" variables\n",
    "    win_probs_for_simulation.loc[:,\"n_win_prob\"] = win_probs_for_simulation.Win_Prob.apply(get_randomized_prob)\n",
    "    win_probs_for_simulation.loc[:,\"Win_Prob\"] = win_probs_for_simulation[\"n_win_prob\"]\n",
    "    win_probs_for_simulation.loc[:,'SS_Win'] = np.where(win_probs_for_simulation['Win_Prob'] >= .5,1,0)\n",
    "    win_probs_for_simulation.loc[:,'WinTeam'] = np.where(win_probs_for_simulation.SS_Win == 1,win_probs_for_simulation.SS_team,win_probs_for_simulation.WS_team)\n",
    "    win_probs_for_simulation.loc[:,'Winning_Seed'] = np.where(win_probs_for_simulation.SS_Win == 1,win_probs_for_simulation.SS_Seed.str[0:3],win_probs_for_simulation.WS_Seed.str[0:3])\n",
    "    \n",
    "    #run through the bracket to find the matchups that occurred and their winner\n",
    "    slots_r1 = pd.merge(slots_for_simulation[slots_for_simulation.Round == 1],win_probs_for_simulation,\n",
    "             left_on=['Strongseed','Weakseed'],right_on=['SS_Seed','WS_Seed'],how='left')\n",
    "    slots_r2 = get_round_results(slots_r1,2)\n",
    "    slots_r3 = get_round_results(slots_r2,3)\n",
    "    slots_r4 = get_round_results(slots_r3,4)\n",
    "    slots_r5 = get_round_results(slots_r4,5)\n",
    "    slots_r6 = get_round_results(slots_r5,6)\n",
    "\n",
    "    slots_complete = pd.concat([slots_r1, slots_r2, slots_r3, slots_r4, slots_r5, slots_r6], \n",
    "                               ignore_index=False).reset_index().drop(['index'],axis=1).drop(['Strongseed','Weakseed'],axis=1)\n",
    "    \n",
    "    #set up for storing results\n",
    "    slots_complete.loc[:,\"Winner\"] = np.where(slots_complete.WinTeam == slots_complete.WS_team,slots_complete.WS_Name,slots_complete.SS_Name)\n",
    "    slots_complete.loc[:,\"n\"] = n\n",
    "    \n",
    "    #add winners of each round to the appropriate data frame\n",
    "    champions = champions.append(slots_complete[slots_complete.Round == 6][['Winner','n']], ignore_index=True)\n",
    "    final4winners = final4winners.append(slots_complete[slots_complete.Round == 5][['Winner','n']], ignore_index=True)\n",
    "    elite8winners = elite8winners.append(slots_complete[slots_complete.Round == 4][['Winner','n']], ignore_index=True)\n",
    "    sweet16winners = sweet16winners.append(slots_complete[slots_complete.Round == 3][['Winner','n']], ignore_index=True)\n",
    "    round32winners = round32winners.append(slots_complete[slots_complete.Round == 2][['Winner','n']], ignore_index=True)\n",
    "    round64winners = round64winners.append(slots_complete[slots_complete.Round == 1][['Winner','n']], ignore_index=True)\n",
    "\n",
    "# get counts. These are the number of times a team made it to that round and won. The pct is the predicted chance of winning in that round.\n",
    "champions.loc[:,'counter'] = 1\n",
    "champions_pcts = champions[['Winner','counter']].groupby('Winner').sum().reset_index().sort_values('counter',ascending=False)\n",
    "champions_pcts.loc[:,\"Chance_of_Winning\"] = champions_pcts.counter / N\n",
    "final4winners.loc[:,'counter'] = 1\n",
    "final4winners_pcts = final4winners[['Winner','counter']].groupby('Winner').sum().reset_index().sort_values('counter',ascending=False)\n",
    "final4winners_pcts.loc[:,\"Chance_of_Winning\"] = final4winners_pcts.counter / N\n",
    "elite8winners.loc[:,'counter'] = 1\n",
    "elite8winners_pcts = elite8winners[['Winner','counter']].groupby('Winner').sum().reset_index().sort_values('counter',ascending=False)\n",
    "elite8winners_pcts.loc[:,\"Chance_of_Winning\"] = elite8winners_pcts.counter / N\n",
    "sweet16winners.loc[:,'counter'] = 1\n",
    "sweet16winners_pcts = sweet16winners[['Winner','counter']].groupby('Winner').sum().reset_index().sort_values('counter',ascending=False)\n",
    "sweet16winners_pcts.loc[:,\"Chance_of_Winning\"] = sweet16winners_pcts.counter / N\n",
    "round32winners.loc[:,'counter'] = 1\n",
    "round32winners_pcts = round32winners[['Winner','counter']].groupby('Winner').sum().reset_index().sort_values('counter',ascending=False)\n",
    "round32winners_pcts.loc[:,\"Chance_of_Winning\"] = round32winners_pcts.counter / N\n",
    "round64winners.loc[:,'counter'] = 1\n",
    "round64winners_pcts = round64winners[['Winner','counter']].groupby('Winner').sum().reset_index().sort_values('counter',ascending=False)\n",
    "round64winners_pcts.loc[:,\"Chance_of_Winning\"] = round64winners_pcts.counter / N"
   ]
  },
  {
   "cell_type": "markdown",
   "metadata": {},
   "source": [
    "#### Villanova is predicted to be the overall winner with a 19% chance of winning the tournament.  \n",
    "  \n",
    "To fill out a bracket, start at the championship, filling in the team with the highest chance of winning. Then look at the final4winners dataframe and fill in the top teams. Then move on to elite8, etc. "
   ]
  },
  {
   "cell_type": "code",
   "execution_count": 434,
   "metadata": {
    "collapsed": false
   },
   "outputs": [
    {
     "data": {
      "text/html": [
       "<div>\n",
       "<table border=\"1\" class=\"dataframe\">\n",
       "  <thead>\n",
       "    <tr style=\"text-align: right;\">\n",
       "      <th></th>\n",
       "      <th>Winner</th>\n",
       "      <th>counter</th>\n",
       "      <th>Chance_of_Winning</th>\n",
       "    </tr>\n",
       "  </thead>\n",
       "  <tbody>\n",
       "    <tr>\n",
       "      <th>41</th>\n",
       "      <td>VILLANOVA</td>\n",
       "      <td>191</td>\n",
       "      <td>0.191</td>\n",
       "    </tr>\n",
       "    <tr>\n",
       "      <th>23</th>\n",
       "      <td>NORTH CAROLINA</td>\n",
       "      <td>88</td>\n",
       "      <td>0.088</td>\n",
       "    </tr>\n",
       "    <tr>\n",
       "      <th>0</th>\n",
       "      <td>ARIZONA</td>\n",
       "      <td>70</td>\n",
       "      <td>0.070</td>\n",
       "    </tr>\n",
       "    <tr>\n",
       "      <th>11</th>\n",
       "      <td>KANSAS</td>\n",
       "      <td>56</td>\n",
       "      <td>0.056</td>\n",
       "    </tr>\n",
       "    <tr>\n",
       "      <th>28</th>\n",
       "      <td>OREGON</td>\n",
       "      <td>50</td>\n",
       "      <td>0.050</td>\n",
       "    </tr>\n",
       "    <tr>\n",
       "      <th>2</th>\n",
       "      <td>BUTLER</td>\n",
       "      <td>49</td>\n",
       "      <td>0.049</td>\n",
       "    </tr>\n",
       "    <tr>\n",
       "      <th>6</th>\n",
       "      <td>DUKE</td>\n",
       "      <td>48</td>\n",
       "      <td>0.048</td>\n",
       "    </tr>\n",
       "    <tr>\n",
       "      <th>1</th>\n",
       "      <td>BAYLOR</td>\n",
       "      <td>47</td>\n",
       "      <td>0.047</td>\n",
       "    </tr>\n",
       "    <tr>\n",
       "      <th>9</th>\n",
       "      <td>GONZAGA</td>\n",
       "      <td>46</td>\n",
       "      <td>0.046</td>\n",
       "    </tr>\n",
       "    <tr>\n",
       "      <th>13</th>\n",
       "      <td>KENTUCKY</td>\n",
       "      <td>29</td>\n",
       "      <td>0.029</td>\n",
       "    </tr>\n",
       "    <tr>\n",
       "      <th>42</th>\n",
       "      <td>VIRGINIA</td>\n",
       "      <td>27</td>\n",
       "      <td>0.027</td>\n",
       "    </tr>\n",
       "    <tr>\n",
       "      <th>14</th>\n",
       "      <td>LOUISVILLE</td>\n",
       "      <td>25</td>\n",
       "      <td>0.025</td>\n",
       "    </tr>\n",
       "    <tr>\n",
       "      <th>26</th>\n",
       "      <td>NOTRE DAME</td>\n",
       "      <td>21</td>\n",
       "      <td>0.021</td>\n",
       "    </tr>\n",
       "    <tr>\n",
       "      <th>10</th>\n",
       "      <td>IOWA STATE</td>\n",
       "      <td>20</td>\n",
       "      <td>0.020</td>\n",
       "    </tr>\n",
       "    <tr>\n",
       "      <th>18</th>\n",
       "      <td>MICHIGAN</td>\n",
       "      <td>19</td>\n",
       "      <td>0.019</td>\n",
       "    </tr>\n",
       "    <tr>\n",
       "      <th>7</th>\n",
       "      <td>FLORIDA</td>\n",
       "      <td>14</td>\n",
       "      <td>0.014</td>\n",
       "    </tr>\n",
       "    <tr>\n",
       "      <th>38</th>\n",
       "      <td>VANDERBILT</td>\n",
       "      <td>14</td>\n",
       "      <td>0.014</td>\n",
       "    </tr>\n",
       "    <tr>\n",
       "      <th>19</th>\n",
       "      <td>MICHIGAN STATE</td>\n",
       "      <td>14</td>\n",
       "      <td>0.014</td>\n",
       "    </tr>\n",
       "    <tr>\n",
       "      <th>34</th>\n",
       "      <td>SMU</td>\n",
       "      <td>14</td>\n",
       "      <td>0.014</td>\n",
       "    </tr>\n",
       "    <tr>\n",
       "      <th>30</th>\n",
       "      <td>PURDUE</td>\n",
       "      <td>14</td>\n",
       "      <td>0.014</td>\n",
       "    </tr>\n",
       "    <tr>\n",
       "      <th>12</th>\n",
       "      <td>KANSAS STATE</td>\n",
       "      <td>13</td>\n",
       "      <td>0.013</td>\n",
       "    </tr>\n",
       "    <tr>\n",
       "      <th>36</th>\n",
       "      <td>UCLA</td>\n",
       "      <td>13</td>\n",
       "      <td>0.013</td>\n",
       "    </tr>\n",
       "    <tr>\n",
       "      <th>3</th>\n",
       "      <td>CINCINNATI</td>\n",
       "      <td>13</td>\n",
       "      <td>0.013</td>\n",
       "    </tr>\n",
       "    <tr>\n",
       "      <th>44</th>\n",
       "      <td>WEST VIRGINIA</td>\n",
       "      <td>12</td>\n",
       "      <td>0.012</td>\n",
       "    </tr>\n",
       "    <tr>\n",
       "      <th>32</th>\n",
       "      <td>SAINT MARYS</td>\n",
       "      <td>10</td>\n",
       "      <td>0.010</td>\n",
       "    </tr>\n",
       "    <tr>\n",
       "      <th>46</th>\n",
       "      <td>WISCONSIN</td>\n",
       "      <td>10</td>\n",
       "      <td>0.010</td>\n",
       "    </tr>\n",
       "    <tr>\n",
       "      <th>25</th>\n",
       "      <td>NORTHWESTERN</td>\n",
       "      <td>9</td>\n",
       "      <td>0.009</td>\n",
       "    </tr>\n",
       "    <tr>\n",
       "      <th>17</th>\n",
       "      <td>MIAMI FL</td>\n",
       "      <td>7</td>\n",
       "      <td>0.007</td>\n",
       "    </tr>\n",
       "    <tr>\n",
       "      <th>47</th>\n",
       "      <td>XAVIER</td>\n",
       "      <td>6</td>\n",
       "      <td>0.006</td>\n",
       "    </tr>\n",
       "    <tr>\n",
       "      <th>15</th>\n",
       "      <td>MARQUETTE</td>\n",
       "      <td>6</td>\n",
       "      <td>0.006</td>\n",
       "    </tr>\n",
       "    <tr>\n",
       "      <th>31</th>\n",
       "      <td>RHODE ISLAND</td>\n",
       "      <td>5</td>\n",
       "      <td>0.005</td>\n",
       "    </tr>\n",
       "    <tr>\n",
       "      <th>4</th>\n",
       "      <td>CREIGHTON</td>\n",
       "      <td>5</td>\n",
       "      <td>0.005</td>\n",
       "    </tr>\n",
       "    <tr>\n",
       "      <th>35</th>\n",
       "      <td>SOUTH CAROLINA</td>\n",
       "      <td>4</td>\n",
       "      <td>0.004</td>\n",
       "    </tr>\n",
       "    <tr>\n",
       "      <th>43</th>\n",
       "      <td>VIRGINIA TECH</td>\n",
       "      <td>4</td>\n",
       "      <td>0.004</td>\n",
       "    </tr>\n",
       "    <tr>\n",
       "      <th>33</th>\n",
       "      <td>SETON HALL</td>\n",
       "      <td>3</td>\n",
       "      <td>0.003</td>\n",
       "    </tr>\n",
       "    <tr>\n",
       "      <th>45</th>\n",
       "      <td>WICHITA STATE</td>\n",
       "      <td>3</td>\n",
       "      <td>0.003</td>\n",
       "    </tr>\n",
       "    <tr>\n",
       "      <th>8</th>\n",
       "      <td>FLORIDA STATE</td>\n",
       "      <td>3</td>\n",
       "      <td>0.003</td>\n",
       "    </tr>\n",
       "    <tr>\n",
       "      <th>16</th>\n",
       "      <td>MARYLAND</td>\n",
       "      <td>2</td>\n",
       "      <td>0.002</td>\n",
       "    </tr>\n",
       "    <tr>\n",
       "      <th>5</th>\n",
       "      <td>DAYTON</td>\n",
       "      <td>2</td>\n",
       "      <td>0.002</td>\n",
       "    </tr>\n",
       "    <tr>\n",
       "      <th>22</th>\n",
       "      <td>NEVADA</td>\n",
       "      <td>2</td>\n",
       "      <td>0.002</td>\n",
       "    </tr>\n",
       "    <tr>\n",
       "      <th>21</th>\n",
       "      <td>MINNESOTA</td>\n",
       "      <td>2</td>\n",
       "      <td>0.002</td>\n",
       "    </tr>\n",
       "    <tr>\n",
       "      <th>20</th>\n",
       "      <td>MIDDLE TENNESSEE</td>\n",
       "      <td>2</td>\n",
       "      <td>0.002</td>\n",
       "    </tr>\n",
       "    <tr>\n",
       "      <th>27</th>\n",
       "      <td>OKLAHOMA STATE</td>\n",
       "      <td>2</td>\n",
       "      <td>0.002</td>\n",
       "    </tr>\n",
       "    <tr>\n",
       "      <th>40</th>\n",
       "      <td>VERMONT</td>\n",
       "      <td>2</td>\n",
       "      <td>0.002</td>\n",
       "    </tr>\n",
       "    <tr>\n",
       "      <th>29</th>\n",
       "      <td>PRINCETON</td>\n",
       "      <td>1</td>\n",
       "      <td>0.001</td>\n",
       "    </tr>\n",
       "    <tr>\n",
       "      <th>39</th>\n",
       "      <td>VCU</td>\n",
       "      <td>1</td>\n",
       "      <td>0.001</td>\n",
       "    </tr>\n",
       "    <tr>\n",
       "      <th>37</th>\n",
       "      <td>USC</td>\n",
       "      <td>1</td>\n",
       "      <td>0.001</td>\n",
       "    </tr>\n",
       "    <tr>\n",
       "      <th>24</th>\n",
       "      <td>NORTH CAROLINA WILMINGTON</td>\n",
       "      <td>1</td>\n",
       "      <td>0.001</td>\n",
       "    </tr>\n",
       "  </tbody>\n",
       "</table>\n",
       "</div>"
      ],
      "text/plain": [
       "                       Winner  counter  Chance_of_Winning\n",
       "41                  VILLANOVA      191              0.191\n",
       "23             NORTH CAROLINA       88              0.088\n",
       "0                     ARIZONA       70              0.070\n",
       "11                     KANSAS       56              0.056\n",
       "28                     OREGON       50              0.050\n",
       "2                      BUTLER       49              0.049\n",
       "6                        DUKE       48              0.048\n",
       "1                      BAYLOR       47              0.047\n",
       "9                     GONZAGA       46              0.046\n",
       "13                   KENTUCKY       29              0.029\n",
       "42                   VIRGINIA       27              0.027\n",
       "14                 LOUISVILLE       25              0.025\n",
       "26                 NOTRE DAME       21              0.021\n",
       "10                 IOWA STATE       20              0.020\n",
       "18                   MICHIGAN       19              0.019\n",
       "7                     FLORIDA       14              0.014\n",
       "38                 VANDERBILT       14              0.014\n",
       "19             MICHIGAN STATE       14              0.014\n",
       "34                        SMU       14              0.014\n",
       "30                     PURDUE       14              0.014\n",
       "12               KANSAS STATE       13              0.013\n",
       "36                       UCLA       13              0.013\n",
       "3                  CINCINNATI       13              0.013\n",
       "44              WEST VIRGINIA       12              0.012\n",
       "32                SAINT MARYS       10              0.010\n",
       "46                  WISCONSIN       10              0.010\n",
       "25               NORTHWESTERN        9              0.009\n",
       "17                   MIAMI FL        7              0.007\n",
       "47                     XAVIER        6              0.006\n",
       "15                  MARQUETTE        6              0.006\n",
       "31               RHODE ISLAND        5              0.005\n",
       "4                   CREIGHTON        5              0.005\n",
       "35             SOUTH CAROLINA        4              0.004\n",
       "43              VIRGINIA TECH        4              0.004\n",
       "33                 SETON HALL        3              0.003\n",
       "45              WICHITA STATE        3              0.003\n",
       "8               FLORIDA STATE        3              0.003\n",
       "16                   MARYLAND        2              0.002\n",
       "5                      DAYTON        2              0.002\n",
       "22                     NEVADA        2              0.002\n",
       "21                  MINNESOTA        2              0.002\n",
       "20           MIDDLE TENNESSEE        2              0.002\n",
       "27             OKLAHOMA STATE        2              0.002\n",
       "40                    VERMONT        2              0.002\n",
       "29                  PRINCETON        1              0.001\n",
       "39                        VCU        1              0.001\n",
       "37                        USC        1              0.001\n",
       "24  NORTH CAROLINA WILMINGTON        1              0.001"
      ]
     },
     "execution_count": 434,
     "metadata": {},
     "output_type": "execute_result"
    }
   ],
   "source": [
    "champions_pcts"
   ]
  },
  {
   "cell_type": "code",
   "execution_count": null,
   "metadata": {
    "collapsed": true
   },
   "outputs": [],
   "source": []
  }
 ],
 "metadata": {
  "kernelspec": {
   "display_name": "Python 2",
   "language": "python",
   "name": "python2"
  },
  "language_info": {
   "codemirror_mode": {
    "name": "ipython",
    "version": 2
   },
   "file_extension": ".py",
   "mimetype": "text/x-python",
   "name": "python",
   "nbconvert_exporter": "python",
   "pygments_lexer": "ipython2",
   "version": "2.7.11"
  }
 },
 "nbformat": 4,
 "nbformat_minor": 0
}
